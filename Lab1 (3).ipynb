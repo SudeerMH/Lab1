{
 "cells": [
  {
   "cell_type": "markdown",
   "metadata": {
    "collapsed": true
   },
   "source": [
    "# My Jupyter Notebook on IBM Watson Studio\n",
    "\n"
   ]
  },
  {
   "cell_type": "markdown",
   "metadata": {},
   "source": [
    "**Mostafa Hassan AlSudeer**\n",
    "\n",
    "My desired occupation is getting into Business Analytics\n"
   ]
  },
  {
   "cell_type": "markdown",
   "metadata": {},
   "source": [
    "*I am interested in data science because it's very important and smart way to deploy business analysis through, useful tools. Data science is highly demanded in the market to these days*"
   ]
  },
  {
   "cell_type": "markdown",
   "metadata": {},
   "source": [
    "### My code will inetiate a loop which counts from 1 to 9"
   ]
  },
  {
   "cell_type": "code",
   "execution_count": 2,
   "metadata": {},
   "outputs": [
    {
     "name": "stdout",
     "output_type": "stream",
     "text": [
      "1\n",
      "2\n",
      "3\n",
      "4\n",
      "5\n",
      "6\n",
      "7\n",
      "8\n",
      "9\n"
     ]
    }
   ],
   "source": [
    "for i in range(1,10):\n",
    "    print(i)\n",
    "    i +=1"
   ]
  },
  {
   "cell_type": "markdown",
   "metadata": {},
   "source": [
    "This code was easy...\n",
    "---\n",
    "I can do a little more but I want to keep it short\n",
    "***\n",
    "Jupyter notebook is very useful\n",
    "___\n",
    "### Here are some of the notebook uses\n",
    "- Easy to use\n",
    "- Easy to share \n",
    "- Good for teamwork\n",
    "#### You can also\n",
    "1. make lists\n",
    "2. fully code and explain your code\n",
    "3. Fast and deployable on VM\n",
    "\n",
    "##### Also you can make tables in the markdown cells\n",
    "| Tables        | Are           | Useful  |\n",
    "| ------------- |:-------------:| -----:|\n",
    "| as     | you  | see |\n",
    "| it     | is     |  easy |\n",
    "| and  | very      |    useful |\n",
    "\n",
    "##### you can also refere to a website easily\n",
    "[Click to google Jupyter uses](https://www.google.com)\n",
    "\n",
    "##### Images can be uploaded too!\n",
    "![this is random image](https://www.google.com/imgres?imgurl=https%3A%2F%2Flookaside.fbsbx.com%2Flookaside%2Fcrawler%2Fmedia%2F%3Fmedia_id%3D112469390446821&imgrefurl=https%3A%2F%2Fwww.facebook.com%2FHi-112469390446821%2Fgroups&tbnid=7jZwVCApWi7lZM&vet=12ahUKEwjJnrWB2c34AhUJ7xoKHVo7AGMQMygBegUIARCSAQ..i&docid=UgiuHKwHqf747M&w=1200&h=1200&itg=1&q=hi&ved=2ahUKEwjJnrWB2c34AhUJ7xoKHVo7AGMQMygBegUIARCSAQ)\n",
    "\n",
    "##### code/syntax highlighting\n",
    "```python\n",
    "test = \"This is\"\n",
    "print test\n",
    "```\n",
    "\n",
    "### Blockcoating\n",
    "Blockquotes are very Useful.\n",
    "> This line is an example.\n",
    "\n",
    "this line is a break\n",
    "\n",
    "> And here we go again!\n",
    "\n",
    "~~ And This is the END ~~"
   ]
  }
 ],
 "metadata": {
  "kernelspec": {
   "display_name": "Python 3.9",
   "language": "python",
   "name": "python3"
  },
  "language_info": {
   "codemirror_mode": {
    "name": "ipython",
    "version": 3
   },
   "file_extension": ".py",
   "mimetype": "text/x-python",
   "name": "python",
   "nbconvert_exporter": "python",
   "pygments_lexer": "ipython3",
   "version": "3.9.12"
  }
 },
 "nbformat": 4,
 "nbformat_minor": 1
}
